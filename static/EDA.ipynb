{
 "cells": [
  {
   "cell_type": "code",
   "execution_count": 6,
   "id": "d7c1969a",
   "metadata": {},
   "outputs": [],
   "source": [
    "import pandas as pd\n",
    "from urllib.request import urlopen\n",
    "from json import loads"
   ]
  },
  {
   "cell_type": "code",
   "execution_count": 21,
   "id": "cbede178",
   "metadata": {},
   "outputs": [],
   "source": [
    "# overview df\n",
    "url = \"https://educationdata.urban.org/api/v1/schools/ccd/directory/2021/\"\n",
    "response = urlopen(url)\n",
    "data = loads(response.read())"
   ]
  },
  {
   "cell_type": "code",
   "execution_count": 23,
   "id": "35d8408b",
   "metadata": {},
   "outputs": [],
   "source": [
    "schools_list = data['results']\n",
    "\n",
    "overview_df = pd.DataFrame(schools_list)"
   ]
  },
  {
   "cell_type": "code",
   "execution_count": 24,
   "id": "2b5dd3ad",
   "metadata": {},
   "outputs": [
    {
     "data": {
      "text/plain": [
       "Index(['year', 'ncessch', 'school_id', 'school_name', 'leaid', 'lea_name',\n",
       "       'state_leaid', 'seasch', 'street_mailing', 'city_mailing',\n",
       "       'state_mailing', 'zip_mailing', 'street_location', 'city_location',\n",
       "       'state_location', 'zip_location', 'phone', 'fips', 'latitude',\n",
       "       'longitude', 'csa', 'cbsa', 'urban_centric_locale', 'county_code',\n",
       "       'school_level', 'school_type', 'school_status', 'lowest_grade_offered',\n",
       "       'highest_grade_offered', 'bureau_indian_education', 'title_i_status',\n",
       "       'title_i_eligible', 'title_i_schoolwide', 'charter', 'magnet',\n",
       "       'shared_time', 'virtual', 'teachers_fte', 'free_lunch',\n",
       "       'reduced_price_lunch', 'free_or_reduced_price_lunch', 'elem_cedp',\n",
       "       'high_cedp', 'middle_cedp', 'ungrade_cedp', 'enrollment',\n",
       "       'state_leg_district_lower', 'state_leg_district_upper', 'ncessch_num',\n",
       "       'congress_district_id', 'direct_certification', 'lunch_program'],\n",
       "      dtype='object')"
      ]
     },
     "execution_count": 24,
     "metadata": {},
     "output_type": "execute_result"
    }
   ],
   "source": [
    "overview_df.columns"
   ]
  },
  {
   "cell_type": "code",
   "execution_count": 25,
   "id": "15fa0021",
   "metadata": {},
   "outputs": [
    {
     "data": {
      "text/plain": [
       "array([2021], dtype=int64)"
      ]
     },
     "execution_count": 25,
     "metadata": {},
     "output_type": "execute_result"
    }
   ],
   "source": [
    "overview_df['year'].unique()"
   ]
  },
  {
   "cell_type": "code",
   "execution_count": 26,
   "id": "c598eb9b",
   "metadata": {},
   "outputs": [
    {
     "data": {
      "text/html": [
       "<div>\n",
       "<style scoped>\n",
       "    .dataframe tbody tr th:only-of-type {\n",
       "        vertical-align: middle;\n",
       "    }\n",
       "\n",
       "    .dataframe tbody tr th {\n",
       "        vertical-align: top;\n",
       "    }\n",
       "\n",
       "    .dataframe thead th {\n",
       "        text-align: right;\n",
       "    }\n",
       "</style>\n",
       "<table border=\"1\" class=\"dataframe\">\n",
       "  <thead>\n",
       "    <tr style=\"text-align: right;\">\n",
       "      <th></th>\n",
       "      <th>year</th>\n",
       "      <th>longitude</th>\n",
       "      <th>latitude</th>\n",
       "    </tr>\n",
       "  </thead>\n",
       "  <tbody>\n",
       "    <tr>\n",
       "      <th>0</th>\n",
       "      <td>2021</td>\n",
       "      <td>-86.206200</td>\n",
       "      <td>34.260200</td>\n",
       "    </tr>\n",
       "    <tr>\n",
       "      <th>1</th>\n",
       "      <td>2021</td>\n",
       "      <td>-86.204900</td>\n",
       "      <td>34.262200</td>\n",
       "    </tr>\n",
       "    <tr>\n",
       "      <th>2</th>\n",
       "      <td>2021</td>\n",
       "      <td>-86.220100</td>\n",
       "      <td>34.273300</td>\n",
       "    </tr>\n",
       "    <tr>\n",
       "      <th>3</th>\n",
       "      <td>2021</td>\n",
       "      <td>-86.221806</td>\n",
       "      <td>34.252700</td>\n",
       "    </tr>\n",
       "    <tr>\n",
       "      <th>4</th>\n",
       "      <td>2021</td>\n",
       "      <td>-86.193300</td>\n",
       "      <td>34.289800</td>\n",
       "    </tr>\n",
       "    <tr>\n",
       "      <th>...</th>\n",
       "      <td>...</td>\n",
       "      <td>...</td>\n",
       "      <td>...</td>\n",
       "    </tr>\n",
       "    <tr>\n",
       "      <th>9995</th>\n",
       "      <td>2021</td>\n",
       "      <td>-117.878382</td>\n",
       "      <td>34.126126</td>\n",
       "    </tr>\n",
       "    <tr>\n",
       "      <th>9996</th>\n",
       "      <td>2021</td>\n",
       "      <td>-117.819340</td>\n",
       "      <td>34.125300</td>\n",
       "    </tr>\n",
       "    <tr>\n",
       "      <th>9997</th>\n",
       "      <td>2021</td>\n",
       "      <td>-117.869035</td>\n",
       "      <td>34.124755</td>\n",
       "    </tr>\n",
       "    <tr>\n",
       "      <th>9998</th>\n",
       "      <td>2021</td>\n",
       "      <td>-117.846815</td>\n",
       "      <td>34.132559</td>\n",
       "    </tr>\n",
       "    <tr>\n",
       "      <th>9999</th>\n",
       "      <td>2021</td>\n",
       "      <td>-120.717190</td>\n",
       "      <td>38.694087</td>\n",
       "    </tr>\n",
       "  </tbody>\n",
       "</table>\n",
       "<p>10000 rows × 3 columns</p>\n",
       "</div>"
      ],
      "text/plain": [
       "      year   longitude   latitude\n",
       "0     2021  -86.206200  34.260200\n",
       "1     2021  -86.204900  34.262200\n",
       "2     2021  -86.220100  34.273300\n",
       "3     2021  -86.221806  34.252700\n",
       "4     2021  -86.193300  34.289800\n",
       "...    ...         ...        ...\n",
       "9995  2021 -117.878382  34.126126\n",
       "9996  2021 -117.819340  34.125300\n",
       "9997  2021 -117.869035  34.124755\n",
       "9998  2021 -117.846815  34.132559\n",
       "9999  2021 -120.717190  38.694087\n",
       "\n",
       "[10000 rows x 3 columns]"
      ]
     },
     "execution_count": 26,
     "metadata": {},
     "output_type": "execute_result"
    }
   ],
   "source": [
    "# map for schools and colleges \n",
    "# need year, longitude, latitude\n",
    "map_df = overview_df[['year', 'longitude', 'latitude']]"
   ]
  },
  {
   "cell_type": "raw",
   "id": "45bc840e",
   "metadata": {},
   "source": [
    "overview_df"
   ]
  },
  {
   "cell_type": "code",
   "execution_count": null,
   "id": "02ee297a",
   "metadata": {},
   "outputs": [],
   "source": [
    "# Step 3: Save as CSV\n",
    "\n",
    "# data_df.to_csv('yelp_academic_dataset_business.csv', index=False)\n",
    "cleaned.to_csv('cleaned_yelp_dataset_business.csv', index=False)\n",
    "\n",
    "print(\"Conversion completed. CSV file saved successfully.\")"
   ]
  }
 ],
 "metadata": {
  "kernelspec": {
   "display_name": "Python 3 (ipykernel)",
   "language": "python",
   "name": "python3"
  },
  "language_info": {
   "codemirror_mode": {
    "name": "ipython",
    "version": 3
   },
   "file_extension": ".py",
   "mimetype": "text/x-python",
   "name": "python",
   "nbconvert_exporter": "python",
   "pygments_lexer": "ipython3",
   "version": "3.11.5"
  }
 },
 "nbformat": 4,
 "nbformat_minor": 5
}
