{
 "cells": [
  {
   "cell_type": "code",
   "execution_count": 1,
   "id": "d7c1969a",
   "metadata": {},
   "outputs": [],
   "source": [
    "import pandas as pd\n",
    "from urllib.request import urlopen\n",
    "from json import loads"
   ]
  },
  {
   "cell_type": "code",
   "execution_count": 16,
   "id": "113f82df",
   "metadata": {},
   "outputs": [],
   "source": [
    "# CCD Enrollment data (grade and sex)\n",
    "from urllib.request import urlopen\n",
    "from json import loads\n",
    "url = \"https://educationdata.urban.org/api/v1/schools/ccd/enrollment/2013/grade-99/race/\"\n",
    "response = urlopen(url)\n",
    "data = loads(response.read())\n",
    "schools_list = data['results']\n",
    "grade_sex_df = pd.DataFrame(schools_list)"
   ]
  },
  {
   "cell_type": "code",
   "execution_count": 18,
   "id": "3a3360a8",
   "metadata": {},
   "outputs": [
    {
     "data": {
      "text/plain": [
       "array([ 4, 99,  3,  2,  6,  5,  1,  7], dtype=int64)"
      ]
     },
     "execution_count": 18,
     "metadata": {},
     "output_type": "execute_result"
    }
   ],
   "source": [
    "grade_sex_df['race'].unique()"
   ]
  },
  {
   "cell_type": "code",
   "execution_count": 5,
   "id": "21259da4",
   "metadata": {},
   "outputs": [],
   "source": [
    "# CRDC Enrollment data (race and sex)\n",
    "url = \"https://educationdata.urban.org/api/v1/schools/crdc/enrollment/2013/race/sex/\"\n",
    "response = urlopen(url)\n",
    "data = loads(response.read())\n",
    "schools_list = data['results']\n",
    "crdc_enrollment_df = pd.DataFrame(schools_list)"
   ]
  },
  {
   "cell_type": "code",
   "execution_count": 6,
   "id": "374510a7",
   "metadata": {},
   "outputs": [],
   "source": []
  },
  {
   "cell_type": "code",
   "execution_count": 2,
   "id": "cbede178",
   "metadata": {},
   "outputs": [],
   "source": [
    "# overview df\n",
    "url = \"https://educationdata.urban.org/api/v1/schools/ccd/directory/2021/\"\n",
    "response = urlopen(url)\n",
    "data = loads(response.read())\n",
    "schools_list = data['results']\n",
    "overview_df = pd.DataFrame(schools_list)"
   ]
  },
  {
   "cell_type": "code",
   "execution_count": 3,
   "id": "35d8408b",
   "metadata": {},
   "outputs": [],
   "source": []
  },
  {
   "cell_type": "raw",
   "id": "08c90e3c",
   "metadata": {},
   "source": [
    "overview_df.columns"
   ]
  },
  {
   "cell_type": "raw",
   "id": "5ca73cd1",
   "metadata": {},
   "source": [
    "overview_df['year'].unique()"
   ]
  },
  {
   "cell_type": "code",
   "execution_count": 4,
   "id": "1df93364",
   "metadata": {},
   "outputs": [],
   "source": [
    "# map for schools and colleges \n",
    "# need year, longitude, latitude\n",
    "map_df = overview_df[['longitude', 'latitude']]"
   ]
  },
  {
   "cell_type": "code",
   "execution_count": 5,
   "id": "1505f1ef",
   "metadata": {},
   "outputs": [
    {
     "name": "stdout",
     "output_type": "stream",
     "text": [
      "Conversion completed. CSV file saved successfully.\n"
     ]
    }
   ],
   "source": [
    "# Step 3: Save as CSV\n",
    "\n",
    "# data_df.to_csv('yelp_academic_dataset_business.csv', index=False)\n",
    "map_df.to_csv('school_map.csv', index=False)\n",
    "\n",
    "print(\"Conversion completed. CSV file saved successfully.\")"
   ]
  }
 ],
 "metadata": {
  "kernelspec": {
   "display_name": "Python 3 (ipykernel)",
   "language": "python",
   "name": "python3"
  },
  "language_info": {
   "codemirror_mode": {
    "name": "ipython",
    "version": 3
   },
   "file_extension": ".py",
   "mimetype": "text/x-python",
   "name": "python",
   "nbconvert_exporter": "python",
   "pygments_lexer": "ipython3",
   "version": "3.9.13"
  }
 },
 "nbformat": 4,
 "nbformat_minor": 5
}
