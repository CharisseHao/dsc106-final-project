{
 "cells": [
  {
   "cell_type": "code",
   "execution_count": 1,
   "id": "55d30341",
   "metadata": {},
   "outputs": [],
   "source": [
    "import pandas as pd\n",
    "import numpy as np"
   ]
  },
  {
   "cell_type": "code",
   "execution_count": 11,
   "id": "dc21a52a",
   "metadata": {},
   "outputs": [
    {
     "name": "stdout",
     "output_type": "stream",
     "text": [
      "2010 done\n",
      "2011 done\n",
      "2012 done\n",
      "2013 done\n",
      "2014 done\n",
      "2015 done\n",
      "2016 done\n",
      "2017 done\n",
      "2018 done\n",
      "2019 done\n",
      "2020 done\n",
      "2021 done\n"
     ]
    },
    {
     "data": {
      "text/plain": [
       "[None, None, None, None, None, None, None, None, None, None, None, None]"
      ]
     },
     "execution_count": 11,
     "metadata": {},
     "output_type": "execute_result"
    }
   ],
   "source": [
    "cols = ['ncessch_num', 'grade', 'race', 'sex', 'enrollment']\n",
    "\n",
    "def clean_df(year):\n",
    "    df = pd.read_csv(f'Enrollment Data/schools_ccd_enrollment_{year}.csv', usecols=cols)\n",
    "    \n",
    "    keep_grades = [i for i in range(-1, 15)]\n",
    "    df = df[df['grade'].isin(keep_grades)]\n",
    "    \n",
    "    keep_races = [i for i in range(1, 8)]\n",
    "    df = df[df['race'].isin(keep_races)]\n",
    "    \n",
    "    enrollment_df = df.groupby('race')['enrollment'].sum().reset_index()\n",
    "    enrollment_df['year'] = f'{year}-01-01'\n",
    "    \n",
    "    enrollment_df.to_csv(f'Cleaned Data/{year}_enrollment.csv', index=False)\n",
    "    \n",
    "    print(f'{year} done')\n",
    "    \n",
    "\n",
    "start_year = 2010\n",
    "end_year = 2021 + 1\n",
    "[clean_df(i) for i in range(start_year, end_year)]"
   ]
  },
  {
   "cell_type": "markdown",
   "id": "76bbc1c9",
   "metadata": {},
   "source": [
    "---\n",
    "### Original EDA Below"
   ]
  },
  {
   "cell_type": "code",
   "execution_count": 4,
   "id": "a4b08b5b",
   "metadata": {},
   "outputs": [
    {
     "data": {
      "text/html": [
       "<div>\n",
       "<style scoped>\n",
       "    .dataframe tbody tr th:only-of-type {\n",
       "        vertical-align: middle;\n",
       "    }\n",
       "\n",
       "    .dataframe tbody tr th {\n",
       "        vertical-align: top;\n",
       "    }\n",
       "\n",
       "    .dataframe thead th {\n",
       "        text-align: right;\n",
       "    }\n",
       "</style>\n",
       "<table border=\"1\" class=\"dataframe\">\n",
       "  <thead>\n",
       "    <tr style=\"text-align: right;\">\n",
       "      <th></th>\n",
       "      <th>ncessch_num</th>\n",
       "      <th>grade</th>\n",
       "      <th>race</th>\n",
       "      <th>sex</th>\n",
       "      <th>enrollment</th>\n",
       "    </tr>\n",
       "  </thead>\n",
       "  <tbody>\n",
       "    <tr>\n",
       "      <th>0</th>\n",
       "      <td>10000500870</td>\n",
       "      <td>7</td>\n",
       "      <td>5</td>\n",
       "      <td>2</td>\n",
       "      <td>1.0</td>\n",
       "    </tr>\n",
       "    <tr>\n",
       "      <th>1</th>\n",
       "      <td>10000500870</td>\n",
       "      <td>7</td>\n",
       "      <td>5</td>\n",
       "      <td>1</td>\n",
       "      <td>3.0</td>\n",
       "    </tr>\n",
       "    <tr>\n",
       "      <th>2</th>\n",
       "      <td>10000500870</td>\n",
       "      <td>7</td>\n",
       "      <td>4</td>\n",
       "      <td>2</td>\n",
       "      <td>2.0</td>\n",
       "    </tr>\n",
       "    <tr>\n",
       "      <th>3</th>\n",
       "      <td>10000500870</td>\n",
       "      <td>7</td>\n",
       "      <td>4</td>\n",
       "      <td>1</td>\n",
       "      <td>2.0</td>\n",
       "    </tr>\n",
       "    <tr>\n",
       "      <th>4</th>\n",
       "      <td>10000500870</td>\n",
       "      <td>7</td>\n",
       "      <td>2</td>\n",
       "      <td>2</td>\n",
       "      <td>7.0</td>\n",
       "    </tr>\n",
       "  </tbody>\n",
       "</table>\n",
       "</div>"
      ],
      "text/plain": [
       "   ncessch_num  grade  race  sex  enrollment\n",
       "0  10000500870      7     5    2         1.0\n",
       "1  10000500870      7     5    1         3.0\n",
       "2  10000500870      7     4    2         2.0\n",
       "3  10000500870      7     4    1         2.0\n",
       "4  10000500870      7     2    2         7.0"
      ]
     },
     "execution_count": 4,
     "metadata": {},
     "output_type": "execute_result"
    }
   ],
   "source": [
    "# columns: year, ncessch, ncessch_num, leaid, fips, grade, race, sex, enrollment\n",
    "cols = ['ncessch_num', 'grade', 'race', 'sex', 'enrollment']\n",
    "\n",
    "# 2010-2021\n",
    "df = pd.read_csv('Enrollment Data/schools_ccd_enrollment_2021.csv', usecols=cols)\n",
    "\n",
    "df.head()"
   ]
  },
  {
   "cell_type": "code",
   "execution_count": 5,
   "id": "8b9cfb7a",
   "metadata": {},
   "outputs": [
    {
     "data": {
      "text/plain": [
       "[-1, 0, 1, 2, 3, 4, 5, 6, 7, 8, 9, 10, 11, 12, 13, 14, 15, 99, 999]"
      ]
     },
     "execution_count": 5,
     "metadata": {},
     "output_type": "execute_result"
    }
   ],
   "source": [
    "sorted(df['grade'].unique())"
   ]
  },
  {
   "cell_type": "markdown",
   "id": "9b4ac7b0",
   "metadata": {},
   "source": [
    "-1—Pre-K\n",
    "0—Kindergarten\n",
    "1—1\n",
    "2—2\n",
    "3—3\n",
    "4—4\n",
    "5—5\n",
    "6—6\n",
    "7—7\n",
    "8—8\n",
    "9—9\n",
    "10—10\n",
    "11—11\n",
    "12—12\n",
    "13—13\n",
    "14—Adult education\n",
    "15—Ungraded\n",
    "99—Total\n",
    "999—Not specified"
   ]
  },
  {
   "cell_type": "code",
   "execution_count": 6,
   "id": "4655a040",
   "metadata": {},
   "outputs": [
    {
     "data": {
      "text/plain": [
       "[-1, 0, 1, 2, 3, 4, 5, 6, 7, 8, 9, 10, 11, 12, 13, 14]"
      ]
     },
     "execution_count": 6,
     "metadata": {},
     "output_type": "execute_result"
    }
   ],
   "source": [
    "# only keep -1 to 14\n",
    "keep_grades = [i for i in range(-1, 15)]\n",
    "\n",
    "df = df[df['grade'].isin(keep_grades)]\n",
    "\n",
    "sorted(df['grade'].unique())"
   ]
  },
  {
   "cell_type": "markdown",
   "id": "8afa8747",
   "metadata": {},
   "source": [
    "1—White\n",
    "2—Black\n",
    "3—Hispanic\n",
    "4—Asian\n",
    "5—American Indian or Alaska Native\n",
    "6—Native Hawaiian or other Pacific Islander\n",
    "7—Two or more races\n",
    "8—Nonresident alien\n",
    "9—Unknown\n",
    "20—Other\n",
    "99—Total\n",
    "-1—Missing/not reported\n",
    "-2—Not applicable\n",
    "-3—Suppressed data"
   ]
  },
  {
   "cell_type": "code",
   "execution_count": 7,
   "id": "94bc2985",
   "metadata": {},
   "outputs": [
    {
     "data": {
      "text/plain": [
       "[1, 2, 3, 4, 5, 6, 7, 9, 99]"
      ]
     },
     "execution_count": 7,
     "metadata": {},
     "output_type": "execute_result"
    }
   ],
   "source": [
    "sorted(df['race'].unique())"
   ]
  },
  {
   "cell_type": "code",
   "execution_count": 8,
   "id": "453bd937",
   "metadata": {},
   "outputs": [
    {
     "data": {
      "text/plain": [
       "[1, 2, 3, 4, 5, 6, 7]"
      ]
     },
     "execution_count": 8,
     "metadata": {},
     "output_type": "execute_result"
    }
   ],
   "source": [
    "# only keep 1 to 7\n",
    "keep_races = [i for i in range(1, 8)]\n",
    "\n",
    "df = df[df['race'].isin(keep_races)]\n",
    "\n",
    "sorted(df['race'].unique())"
   ]
  },
  {
   "cell_type": "code",
   "execution_count": 9,
   "id": "384ca794",
   "metadata": {},
   "outputs": [
    {
     "data": {
      "text/html": [
       "<div>\n",
       "<style scoped>\n",
       "    .dataframe tbody tr th:only-of-type {\n",
       "        vertical-align: middle;\n",
       "    }\n",
       "\n",
       "    .dataframe tbody tr th {\n",
       "        vertical-align: top;\n",
       "    }\n",
       "\n",
       "    .dataframe thead th {\n",
       "        text-align: right;\n",
       "    }\n",
       "</style>\n",
       "<table border=\"1\" class=\"dataframe\">\n",
       "  <thead>\n",
       "    <tr style=\"text-align: right;\">\n",
       "      <th></th>\n",
       "      <th>race</th>\n",
       "      <th>enrollment</th>\n",
       "      <th>year</th>\n",
       "    </tr>\n",
       "  </thead>\n",
       "  <tbody>\n",
       "    <tr>\n",
       "      <th>0</th>\n",
       "      <td>1</td>\n",
       "      <td>44360226.0</td>\n",
       "      <td>2021-01-01</td>\n",
       "    </tr>\n",
       "    <tr>\n",
       "      <th>1</th>\n",
       "      <td>2</td>\n",
       "      <td>14635934.0</td>\n",
       "      <td>2021-01-01</td>\n",
       "    </tr>\n",
       "    <tr>\n",
       "      <th>2</th>\n",
       "      <td>3</td>\n",
       "      <td>28330290.0</td>\n",
       "      <td>2021-01-01</td>\n",
       "    </tr>\n",
       "    <tr>\n",
       "      <th>3</th>\n",
       "      <td>4</td>\n",
       "      <td>5299714.0</td>\n",
       "      <td>2021-01-01</td>\n",
       "    </tr>\n",
       "    <tr>\n",
       "      <th>4</th>\n",
       "      <td>5</td>\n",
       "      <td>963584.0</td>\n",
       "      <td>2021-01-01</td>\n",
       "    </tr>\n",
       "    <tr>\n",
       "      <th>5</th>\n",
       "      <td>6</td>\n",
       "      <td>412186.0</td>\n",
       "      <td>2021-01-01</td>\n",
       "    </tr>\n",
       "    <tr>\n",
       "      <th>6</th>\n",
       "      <td>7</td>\n",
       "      <td>4633530.0</td>\n",
       "      <td>2021-01-01</td>\n",
       "    </tr>\n",
       "  </tbody>\n",
       "</table>\n",
       "</div>"
      ],
      "text/plain": [
       "   race  enrollment        year\n",
       "0     1  44360226.0  2021-01-01\n",
       "1     2  14635934.0  2021-01-01\n",
       "2     3  28330290.0  2021-01-01\n",
       "3     4   5299714.0  2021-01-01\n",
       "4     5    963584.0  2021-01-01\n",
       "5     6    412186.0  2021-01-01\n",
       "6     7   4633530.0  2021-01-01"
      ]
     },
     "execution_count": 9,
     "metadata": {},
     "output_type": "execute_result"
    }
   ],
   "source": [
    "# enrollment_df = df.groupby(['grade', 'race'])['enrollment'].sum().reset_index()\n",
    "\n",
    "enrollment_df = df.groupby('race')['enrollment'].sum().reset_index()\n",
    "enrollment_df['year'] = '2021-01-01'\n",
    "enrollment_df"
   ]
  },
  {
   "cell_type": "code",
   "execution_count": 10,
   "id": "d6b0554d",
   "metadata": {},
   "outputs": [],
   "source": [
    "enrollment_df.to_csv('Cleaned Data/2021_enrollment.csv', index=False)"
   ]
  },
  {
   "cell_type": "code",
   "execution_count": null,
   "id": "47f77bac",
   "metadata": {},
   "outputs": [],
   "source": []
  }
 ],
 "metadata": {
  "kernelspec": {
   "display_name": "Python 3 (ipykernel)",
   "language": "python",
   "name": "python3"
  },
  "language_info": {
   "codemirror_mode": {
    "name": "ipython",
    "version": 3
   },
   "file_extension": ".py",
   "mimetype": "text/x-python",
   "name": "python",
   "nbconvert_exporter": "python",
   "pygments_lexer": "ipython3",
   "version": "3.9.12"
  }
 },
 "nbformat": 4,
 "nbformat_minor": 5
}
