{
 "cells": [
  {
   "cell_type": "code",
   "execution_count": 1,
   "id": "7ab477c9",
   "metadata": {},
   "outputs": [],
   "source": [
    "import pandas as pd\n",
    "import numpy as np"
   ]
  },
  {
   "cell_type": "code",
   "execution_count": 18,
   "id": "a8a5ff45",
   "metadata": {},
   "outputs": [],
   "source": [
    "all_enrollment = pd.DataFrame(columns=['year', 'race', 'enrollment'])\n",
    "start_year = 2010\n",
    "end_year = 2021 + 1\n",
    "\n",
    "for year in range(start_year, end_year):\n",
    "    df = pd.read_csv(f'Cleaned Data/{year}_enrollment.csv')\n",
    "    all_enrollment = pd.concat([all_enrollment, df])"
   ]
  },
  {
   "cell_type": "code",
   "execution_count": 19,
   "id": "af577c5d",
   "metadata": {},
   "outputs": [
    {
     "data": {
      "text/html": [
       "<div>\n",
       "<style scoped>\n",
       "    .dataframe tbody tr th:only-of-type {\n",
       "        vertical-align: middle;\n",
       "    }\n",
       "\n",
       "    .dataframe tbody tr th {\n",
       "        vertical-align: top;\n",
       "    }\n",
       "\n",
       "    .dataframe thead th {\n",
       "        text-align: right;\n",
       "    }\n",
       "</style>\n",
       "<table border=\"1\" class=\"dataframe\">\n",
       "  <thead>\n",
       "    <tr style=\"text-align: right;\">\n",
       "      <th></th>\n",
       "      <th>year</th>\n",
       "      <th>race</th>\n",
       "      <th>enrollment</th>\n",
       "    </tr>\n",
       "  </thead>\n",
       "  <tbody>\n",
       "    <tr>\n",
       "      <th>0</th>\n",
       "      <td>2010-01-01</td>\n",
       "      <td>American Indian or Alaska Native</td>\n",
       "      <td>1144270</td>\n",
       "    </tr>\n",
       "    <tr>\n",
       "      <th>1</th>\n",
       "      <td>2010-01-01</td>\n",
       "      <td>Asian</td>\n",
       "      <td>4502358</td>\n",
       "    </tr>\n",
       "    <tr>\n",
       "      <th>2</th>\n",
       "      <td>2010-01-01</td>\n",
       "      <td>Black</td>\n",
       "      <td>15606028</td>\n",
       "    </tr>\n",
       "    <tr>\n",
       "      <th>3</th>\n",
       "      <td>2010-01-01</td>\n",
       "      <td>Hispanic</td>\n",
       "      <td>23485050</td>\n",
       "    </tr>\n",
       "    <tr>\n",
       "      <th>4</th>\n",
       "      <td>2010-01-01</td>\n",
       "      <td>Native Hawaiian or other Pacific Islander</td>\n",
       "      <td>324798</td>\n",
       "    </tr>\n",
       "    <tr>\n",
       "      <th>...</th>\n",
       "      <td>...</td>\n",
       "      <td>...</td>\n",
       "      <td>...</td>\n",
       "    </tr>\n",
       "    <tr>\n",
       "      <th>2</th>\n",
       "      <td>2021-01-01</td>\n",
       "      <td>Black</td>\n",
       "      <td>14635934.0</td>\n",
       "    </tr>\n",
       "    <tr>\n",
       "      <th>3</th>\n",
       "      <td>2021-01-01</td>\n",
       "      <td>Hispanic</td>\n",
       "      <td>28330290.0</td>\n",
       "    </tr>\n",
       "    <tr>\n",
       "      <th>4</th>\n",
       "      <td>2021-01-01</td>\n",
       "      <td>Native Hawaiian or other Pacific Islander</td>\n",
       "      <td>412186.0</td>\n",
       "    </tr>\n",
       "    <tr>\n",
       "      <th>5</th>\n",
       "      <td>2021-01-01</td>\n",
       "      <td>Two or more races</td>\n",
       "      <td>4633530.0</td>\n",
       "    </tr>\n",
       "    <tr>\n",
       "      <th>6</th>\n",
       "      <td>2021-01-01</td>\n",
       "      <td>White</td>\n",
       "      <td>44360226.0</td>\n",
       "    </tr>\n",
       "  </tbody>\n",
       "</table>\n",
       "<p>84 rows × 3 columns</p>\n",
       "</div>"
      ],
      "text/plain": [
       "          year                                       race  enrollment\n",
       "0   2010-01-01           American Indian or Alaska Native     1144270\n",
       "1   2010-01-01                                      Asian     4502358\n",
       "2   2010-01-01                                      Black    15606028\n",
       "3   2010-01-01                                   Hispanic    23485050\n",
       "4   2010-01-01  Native Hawaiian or other Pacific Islander      324798\n",
       "..         ...                                        ...         ...\n",
       "2   2021-01-01                                      Black  14635934.0\n",
       "3   2021-01-01                                   Hispanic  28330290.0\n",
       "4   2021-01-01  Native Hawaiian or other Pacific Islander    412186.0\n",
       "5   2021-01-01                          Two or more races   4633530.0\n",
       "6   2021-01-01                                      White  44360226.0\n",
       "\n",
       "[84 rows x 3 columns]"
      ]
     },
     "execution_count": 19,
     "metadata": {},
     "output_type": "execute_result"
    }
   ],
   "source": [
    "all_enrollment"
   ]
  },
  {
   "cell_type": "code",
   "execution_count": 20,
   "id": "5988014a",
   "metadata": {},
   "outputs": [],
   "source": [
    "all_enrollment.to_csv(f'final_enrollment_data.csv', index=False)"
   ]
  },
  {
   "cell_type": "code",
   "execution_count": null,
   "id": "5a1428a4",
   "metadata": {},
   "outputs": [],
   "source": []
  }
 ],
 "metadata": {
  "kernelspec": {
   "display_name": "Python 3 (ipykernel)",
   "language": "python",
   "name": "python3"
  },
  "language_info": {
   "codemirror_mode": {
    "name": "ipython",
    "version": 3
   },
   "file_extension": ".py",
   "mimetype": "text/x-python",
   "name": "python",
   "nbconvert_exporter": "python",
   "pygments_lexer": "ipython3",
   "version": "3.9.12"
  }
 },
 "nbformat": 4,
 "nbformat_minor": 5
}
